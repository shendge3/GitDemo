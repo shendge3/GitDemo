{
 "cells": [
  {
   "cell_type": "code",
   "execution_count": 1,
   "id": "71e92180",
   "metadata": {},
   "outputs": [
    {
     "name": "stdout",
     "output_type": "stream",
     "text": [
      "HELO\n"
     ]
    }
   ],
   "source": [
    "print(\"HELO\")"
   ]
  },
  {
   "cell_type": "code",
   "execution_count": null,
   "id": "0246cc2e",
   "metadata": {},
   "outputs": [],
   "source": []
  },
  {
   "cell_type": "code",
   "execution_count": null,
   "id": "b483d58f",
   "metadata": {},
   "outputs": [],
   "source": []
  },
  {
   "cell_type": "code",
   "execution_count": null,
   "id": "407a4057",
   "metadata": {},
   "outputs": [],
   "source": []
  },
  {
   "cell_type": "code",
   "execution_count": null,
   "id": "b5f59ee0",
   "metadata": {},
   "outputs": [],
   "source": []
  },
  {
   "cell_type": "code",
   "execution_count": 2,
   "id": "d102d5fb",
   "metadata": {},
   "outputs": [
    {
     "ename": "ModuleNotFoundError",
     "evalue": "No module named 'pandas_datareader'",
     "output_type": "error",
     "traceback": [
      "\u001b[1;31m---------------------------------------------------------------------------\u001b[0m",
      "\u001b[1;31mModuleNotFoundError\u001b[0m                       Traceback (most recent call last)",
      "Input \u001b[1;32mIn [2]\u001b[0m, in \u001b[0;36m<cell line: 4>\u001b[1;34m()\u001b[0m\n\u001b[0;32m      2\u001b[0m \u001b[38;5;28;01mimport\u001b[39;00m \u001b[38;5;21;01mpandas\u001b[39;00m \u001b[38;5;28;01mas\u001b[39;00m \u001b[38;5;21;01mpd\u001b[39;00m\n\u001b[0;32m      3\u001b[0m \u001b[38;5;28;01mimport\u001b[39;00m \u001b[38;5;21;01mmatplotlib\u001b[39;00m\u001b[38;5;21;01m.\u001b[39;00m\u001b[38;5;21;01mpyplot\u001b[39;00m \u001b[38;5;28;01mas\u001b[39;00m \u001b[38;5;21;01mplt\u001b[39;00m\n\u001b[1;32m----> 4\u001b[0m \u001b[38;5;28;01mimport\u001b[39;00m \u001b[38;5;21;01mpandas_datareader\u001b[39;00m \u001b[38;5;28;01mas\u001b[39;00m \u001b[38;5;21;01mdata\u001b[39;00m\n",
      "\u001b[1;31mModuleNotFoundError\u001b[0m: No module named 'pandas_datareader'"
     ]
    }
   ],
   "source": [
    "import numpy as np\n",
    "import pandas as pd\n",
    "import matplotlib.pyplot as plt\n",
    "import pandas_datareader as data"
   ]
  },
  {
   "cell_type": "code",
   "execution_count": null,
   "id": "4a01ae8b",
   "metadata": {},
   "outputs": [],
   "source": [
    "pd.__version__"
   ]
  },
  {
   "cell_type": "code",
   "execution_count": 5,
   "id": "afd97d96",
   "metadata": {},
   "outputs": [
    {
     "data": {
      "text/html": [
       "<div>\n",
       "<style scoped>\n",
       "    .dataframe tbody tr th:only-of-type {\n",
       "        vertical-align: middle;\n",
       "    }\n",
       "\n",
       "    .dataframe tbody tr th {\n",
       "        vertical-align: top;\n",
       "    }\n",
       "\n",
       "    .dataframe thead th {\n",
       "        text-align: right;\n",
       "    }\n",
       "</style>\n",
       "<table border=\"1\" class=\"dataframe\">\n",
       "  <thead>\n",
       "    <tr style=\"text-align: right;\">\n",
       "      <th></th>\n",
       "      <th>Strike</th>\n",
       "      <th>Trigger Price</th>\n",
       "      <th>Trigger Time</th>\n",
       "      <th>SL</th>\n",
       "      <th>Tgt</th>\n",
       "      <th>Underlying</th>\n",
       "      <th>Report Time</th>\n",
       "    </tr>\n",
       "  </thead>\n",
       "  <tbody>\n",
       "    <tr>\n",
       "      <th>0</th>\n",
       "      <td>44400</td>\n",
       "      <td>187.15</td>\n",
       "      <td>00:18:00.100000</td>\n",
       "      <td>212.30</td>\n",
       "      <td>145.30</td>\n",
       "      <td>44273.75</td>\n",
       "      <td>00:18:02.700000</td>\n",
       "    </tr>\n",
       "    <tr>\n",
       "      <th>1</th>\n",
       "      <td>44200</td>\n",
       "      <td>218.55</td>\n",
       "      <td>00:18:00.100000</td>\n",
       "      <td>246.15</td>\n",
       "      <td>168.40</td>\n",
       "      <td>44273.75</td>\n",
       "      <td>00:18:02.700000</td>\n",
       "    </tr>\n",
       "    <tr>\n",
       "      <th>2</th>\n",
       "      <td>44400</td>\n",
       "      <td>None</td>\n",
       "      <td>None</td>\n",
       "      <td>212.30</td>\n",
       "      <td>145.30</td>\n",
       "      <td>44363.80</td>\n",
       "      <td>00:20:47.100000</td>\n",
       "    </tr>\n",
       "    <tr>\n",
       "      <th>3</th>\n",
       "      <td>44200</td>\n",
       "      <td>168.35</td>\n",
       "      <td>00:28:09.500000</td>\n",
       "      <td>228.15</td>\n",
       "      <td>168.40</td>\n",
       "      <td>44411.25</td>\n",
       "      <td>00:28:10.800000</td>\n",
       "    </tr>\n",
       "    <tr>\n",
       "      <th>4</th>\n",
       "      <td>44600</td>\n",
       "      <td>138.7</td>\n",
       "      <td>00:27:00</td>\n",
       "      <td>163.85</td>\n",
       "      <td>105.55</td>\n",
       "      <td>44395.15</td>\n",
       "      <td>00:27:01.600000</td>\n",
       "    </tr>\n",
       "    <tr>\n",
       "      <th>5</th>\n",
       "      <td>44200</td>\n",
       "      <td>177.1</td>\n",
       "      <td>00:27:00</td>\n",
       "      <td>207.50</td>\n",
       "      <td>133.65</td>\n",
       "      <td>44395.15</td>\n",
       "      <td>00:27:01.600000</td>\n",
       "    </tr>\n",
       "    <tr>\n",
       "      <th>6</th>\n",
       "      <td>44600</td>\n",
       "      <td>None</td>\n",
       "      <td>None</td>\n",
       "      <td>163.85</td>\n",
       "      <td>105.55</td>\n",
       "      <td>44429.90</td>\n",
       "      <td>00:29:03.200000</td>\n",
       "    </tr>\n",
       "    <tr>\n",
       "      <th>7</th>\n",
       "      <td>44200</td>\n",
       "      <td>150.25</td>\n",
       "      <td>00:54:59.900000</td>\n",
       "      <td>189.50</td>\n",
       "      <td>133.65</td>\n",
       "      <td>44428.95</td>\n",
       "      <td>00:55:00.200000</td>\n",
       "    </tr>\n",
       "    <tr>\n",
       "      <th>8</th>\n",
       "      <td>44500</td>\n",
       "      <td>172.65</td>\n",
       "      <td>00:39:59.900000</td>\n",
       "      <td>213.55</td>\n",
       "      <td>115.25</td>\n",
       "      <td>44371.20</td>\n",
       "      <td>00:40:01.300000</td>\n",
       "    </tr>\n",
       "    <tr>\n",
       "      <th>9</th>\n",
       "      <td>44200</td>\n",
       "      <td>174.25</td>\n",
       "      <td>00:39:59.900000</td>\n",
       "      <td>222.10</td>\n",
       "      <td>119.85</td>\n",
       "      <td>44371.20</td>\n",
       "      <td>00:40:01.300000</td>\n",
       "    </tr>\n",
       "    <tr>\n",
       "      <th>10</th>\n",
       "      <td>44500</td>\n",
       "      <td>214.6</td>\n",
       "      <td>00:20:03</td>\n",
       "      <td>213.55</td>\n",
       "      <td>115.25</td>\n",
       "      <td>44474.55</td>\n",
       "      <td>00:20:03.800000</td>\n",
       "    </tr>\n",
       "  </tbody>\n",
       "</table>\n",
       "</div>"
      ],
      "text/plain": [
       "    Strike Trigger Price     Trigger Time      SL     Tgt  Underlying  \\\n",
       "0    44400        187.15  00:18:00.100000  212.30  145.30    44273.75   \n",
       "1    44200        218.55  00:18:00.100000  246.15  168.40    44273.75   \n",
       "2    44400          None             None  212.30  145.30    44363.80   \n",
       "3    44200        168.35  00:28:09.500000  228.15  168.40    44411.25   \n",
       "4    44600         138.7         00:27:00  163.85  105.55    44395.15   \n",
       "5    44200         177.1         00:27:00  207.50  133.65    44395.15   \n",
       "6    44600          None             None  163.85  105.55    44429.90   \n",
       "7    44200        150.25  00:54:59.900000  189.50  133.65    44428.95   \n",
       "8    44500        172.65  00:39:59.900000  213.55  115.25    44371.20   \n",
       "9    44200        174.25  00:39:59.900000  222.10  119.85    44371.20   \n",
       "10   44500         214.6         00:20:03  213.55  115.25    44474.55   \n",
       "\n",
       "        Report Time  \n",
       "0   00:18:02.700000  \n",
       "1   00:18:02.700000  \n",
       "2   00:20:47.100000  \n",
       "3   00:28:10.800000  \n",
       "4   00:27:01.600000  \n",
       "5   00:27:01.600000  \n",
       "6   00:29:03.200000  \n",
       "7   00:55:00.200000  \n",
       "8   00:40:01.300000  \n",
       "9   00:40:01.300000  \n",
       "10  00:20:03.800000  "
      ]
     },
     "execution_count": 5,
     "metadata": {},
     "output_type": "execute_result"
    }
   ],
   "source": [
    "pd.read_excel('viv.xlsx')"
   ]
  },
  {
   "cell_type": "code",
   "execution_count": null,
   "id": "f90ad2ed",
   "metadata": {},
   "outputs": [],
   "source": []
  }
 ],
 "metadata": {
  "kernelspec": {
   "display_name": "Python 3 (ipykernel)",
   "language": "python",
   "name": "python3"
  },
  "language_info": {
   "codemirror_mode": {
    "name": "ipython",
    "version": 3
   },
   "file_extension": ".py",
   "mimetype": "text/x-python",
   "name": "python",
   "nbconvert_exporter": "python",
   "pygments_lexer": "ipython3",
   "version": "3.9.12"
  }
 },
 "nbformat": 4,
 "nbformat_minor": 5
}
