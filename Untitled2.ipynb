{
 "cells": [
  {
   "cell_type": "code",
   "execution_count": 1,
   "id": "4a97172e",
   "metadata": {},
   "outputs": [
    {
     "name": "stdout",
     "output_type": "stream",
     "text": [
      "Requirement already satisfied: pyotp in c:\\users\\bnfvi\\anaconda3\\lib\\site-packages (2.7.0)\n",
      "Note: you may need to restart the kernel to use updated packages.\n"
     ]
    }
   ],
   "source": [
    "pip install pyotp"
   ]
  },
  {
   "cell_type": "code",
   "execution_count": 2,
   "id": "f9fa05f3",
   "metadata": {},
   "outputs": [
    {
     "name": "stdout",
     "output_type": "stream",
     "text": [
      "Processing c:\\norenrestapipy-0.0.20-py2.py3-none-any.whl\n",
      "NorenRestApiPy is already installed with the same version as the provided wheel. Use --force-reinstall to force an installation of the wheel.\n",
      "Note: you may need to restart the kernel to use updated packages.\n"
     ]
    }
   ],
   "source": [
    "pip install C:\\NorenRestApiPy-0.0.20-py2.py3-none-any.whl"
   ]
  },
  {
   "cell_type": "code",
   "execution_count": 3,
   "id": "b590b886",
   "metadata": {},
   "outputs": [
    {
     "name": "stdout",
     "output_type": "stream",
     "text": [
      "sdfsdfwerwe\n"
     ]
    }
   ],
   "source": [
    "a= \"sdfsdf\"\n",
    "b='werwe'\n",
    "c=a+ b\n",
    "print(c)"
   ]
  },
  {
   "cell_type": "code",
   "execution_count": 1,
   "id": "0ba04104",
   "metadata": {},
   "outputs": [],
   "source": [
    "token1= 'LY53F26C652QMTIZ56U26RZ326VT6PLJ'\n",
    "token= 'HWRE3E7MD447KX6353U564732Y756GZ5'"
   ]
  },
  {
   "cell_type": "code",
   "execution_count": 3,
   "id": "b59848b1",
   "metadata": {},
   "outputs": [
    {
     "data": {
      "text/plain": [
       "'379323'"
      ]
     },
     "execution_count": 3,
     "metadata": {},
     "output_type": "execute_result"
    }
   ],
   "source": [
    "import pyotp\n",
    "pyotp.TOTP(token).now()"
   ]
  },
  {
   "cell_type": "code",
   "execution_count": 5,
   "id": "ccbb0f6b",
   "metadata": {},
   "outputs": [
    {
     "name": "stderr",
     "output_type": "stream",
     "text": [
      "DEBUG:NorenRestApiPy.NorenApi:httpsshoonyatrade.finvasia.comNorenWClientTP/QuickAuth\n",
      "DEBUG:NorenRestApiPy.NorenApi:Req:jData={\"source\": \"API\", \"apkversion\": \"1.0.0\", \"uid\": \"FA43355\", \"pwd\": \"081e7e74cd6fcd93bf1e5a9e731d6edab62a0e3f8e5db87320b369aa1975ea90\", \"factor2\": \"404061\", \"vc\": \"FA43355_U\", \"appkey\": \"7e61445db8284df82e29b26b172d477735bdcb96a6798bdbb2fdc1244f4e12d9\", \"imei\": \"dfsghwd6eydbef8hdnk\"}\n"
     ]
    },
    {
     "ename": "MissingSchema",
     "evalue": "Invalid URL 'httpsshoonyatrade.finvasia.comNorenWClientTP/QuickAuth': No scheme supplied. Perhaps you meant http://httpsshoonyatrade.finvasia.comNorenWClientTP/QuickAuth?",
     "output_type": "error",
     "traceback": [
      "\u001b[1;31m---------------------------------------------------------------------------\u001b[0m",
      "\u001b[1;31mMissingSchema\u001b[0m                             Traceback (most recent call last)",
      "Input \u001b[1;32mIn [5]\u001b[0m, in \u001b[0;36m<cell line: 25>\u001b[1;34m()\u001b[0m\n\u001b[0;32m     21\u001b[0m         api \u001b[38;5;241m=\u001b[39m \u001b[38;5;28mself\u001b[39m\n\u001b[0;32m     23\u001b[0m api \u001b[38;5;241m=\u001b[39m ShoonyaApiPy()      \n\u001b[1;32m---> 25\u001b[0m ret \u001b[38;5;241m=\u001b[39m \u001b[43mapi\u001b[49m\u001b[38;5;241;43m.\u001b[39;49m\u001b[43mlogin\u001b[49m\u001b[43m(\u001b[49m\u001b[43muserid\u001b[49m\u001b[38;5;241;43m=\u001b[39;49m\u001b[43muser\u001b[49m\u001b[43m,\u001b[49m\u001b[43m \u001b[49m\u001b[43mpassword\u001b[49m\u001b[38;5;241;43m=\u001b[39;49m\u001b[43mpwd\u001b[49m\u001b[43m,\u001b[49m\u001b[43m \u001b[49m\u001b[43mtwoFA\u001b[49m\u001b[38;5;241;43m=\u001b[39;49m\u001b[43mpyotp\u001b[49m\u001b[38;5;241;43m.\u001b[39;49m\u001b[43mTOTP\u001b[49m\u001b[43m(\u001b[49m\u001b[43mtoken\u001b[49m\u001b[43m)\u001b[49m\u001b[38;5;241;43m.\u001b[39;49m\u001b[43mnow\u001b[49m\u001b[43m(\u001b[49m\u001b[43m)\u001b[49m\u001b[43m,\u001b[49m\u001b[43m \u001b[49m\u001b[43mvendor_code\u001b[49m\u001b[38;5;241;43m=\u001b[39;49m\u001b[43mvc\u001b[49m\u001b[43m,\u001b[49m\u001b[43m \u001b[49m\u001b[43mapi_secret\u001b[49m\u001b[38;5;241;43m=\u001b[39;49m\u001b[43mapp_key\u001b[49m\u001b[43m,\u001b[49m\u001b[43m \u001b[49m\u001b[43mimei\u001b[49m\u001b[38;5;241;43m=\u001b[39;49m\u001b[38;5;124;43m'\u001b[39;49m\u001b[38;5;124;43mdfsghwd6eydbef8hdnk\u001b[39;49m\u001b[38;5;124;43m'\u001b[39;49m\u001b[43m)\u001b[49m\n\u001b[0;32m     27\u001b[0m \u001b[38;5;28mprint\u001b[39m(ret)\n",
      "File \u001b[1;32m~\\anaconda3\\lib\\site-packages\\NorenRestApiPy\\NorenApi.py:238\u001b[0m, in \u001b[0;36mNorenApi.login\u001b[1;34m(self, userid, password, twoFA, vendor_code, api_secret, imei)\u001b[0m\n\u001b[0;32m    235\u001b[0m payload \u001b[38;5;241m=\u001b[39m \u001b[38;5;124m'\u001b[39m\u001b[38;5;124mjData=\u001b[39m\u001b[38;5;124m'\u001b[39m \u001b[38;5;241m+\u001b[39m json\u001b[38;5;241m.\u001b[39mdumps(values)\n\u001b[0;32m    236\u001b[0m reportmsg(\u001b[38;5;124m\"\u001b[39m\u001b[38;5;124mReq:\u001b[39m\u001b[38;5;124m\"\u001b[39m \u001b[38;5;241m+\u001b[39m payload)\n\u001b[1;32m--> 238\u001b[0m res \u001b[38;5;241m=\u001b[39m \u001b[43mrequests\u001b[49m\u001b[38;5;241;43m.\u001b[39;49m\u001b[43mpost\u001b[49m\u001b[43m(\u001b[49m\u001b[43murl\u001b[49m\u001b[43m,\u001b[49m\u001b[43m \u001b[49m\u001b[43mdata\u001b[49m\u001b[38;5;241;43m=\u001b[39;49m\u001b[43mpayload\u001b[49m\u001b[43m)\u001b[49m\n\u001b[0;32m    239\u001b[0m reportmsg(\u001b[38;5;124m\"\u001b[39m\u001b[38;5;124mReply:\u001b[39m\u001b[38;5;124m\"\u001b[39m \u001b[38;5;241m+\u001b[39m res\u001b[38;5;241m.\u001b[39mtext)\n\u001b[0;32m    241\u001b[0m resDict \u001b[38;5;241m=\u001b[39m json\u001b[38;5;241m.\u001b[39mloads(res\u001b[38;5;241m.\u001b[39mtext)\n",
      "File \u001b[1;32m~\\anaconda3\\lib\\site-packages\\requests\\api.py:117\u001b[0m, in \u001b[0;36mpost\u001b[1;34m(url, data, json, **kwargs)\u001b[0m\n\u001b[0;32m    105\u001b[0m \u001b[38;5;28;01mdef\u001b[39;00m \u001b[38;5;21mpost\u001b[39m(url, data\u001b[38;5;241m=\u001b[39m\u001b[38;5;28;01mNone\u001b[39;00m, json\u001b[38;5;241m=\u001b[39m\u001b[38;5;28;01mNone\u001b[39;00m, \u001b[38;5;241m*\u001b[39m\u001b[38;5;241m*\u001b[39mkwargs):\n\u001b[0;32m    106\u001b[0m     \u001b[38;5;124mr\u001b[39m\u001b[38;5;124;03m\"\"\"Sends a POST request.\u001b[39;00m\n\u001b[0;32m    107\u001b[0m \n\u001b[0;32m    108\u001b[0m \u001b[38;5;124;03m    :param url: URL for the new :class:`Request` object.\u001b[39;00m\n\u001b[1;32m   (...)\u001b[0m\n\u001b[0;32m    114\u001b[0m \u001b[38;5;124;03m    :rtype: requests.Response\u001b[39;00m\n\u001b[0;32m    115\u001b[0m \u001b[38;5;124;03m    \"\"\"\u001b[39;00m\n\u001b[1;32m--> 117\u001b[0m     \u001b[38;5;28;01mreturn\u001b[39;00m request(\u001b[38;5;124m'\u001b[39m\u001b[38;5;124mpost\u001b[39m\u001b[38;5;124m'\u001b[39m, url, data\u001b[38;5;241m=\u001b[39mdata, json\u001b[38;5;241m=\u001b[39mjson, \u001b[38;5;241m*\u001b[39m\u001b[38;5;241m*\u001b[39mkwargs)\n",
      "File \u001b[1;32m~\\anaconda3\\lib\\site-packages\\requests\\api.py:61\u001b[0m, in \u001b[0;36mrequest\u001b[1;34m(method, url, **kwargs)\u001b[0m\n\u001b[0;32m     57\u001b[0m \u001b[38;5;66;03m# By using the 'with' statement we are sure the session is closed, thus we\u001b[39;00m\n\u001b[0;32m     58\u001b[0m \u001b[38;5;66;03m# avoid leaving sockets open which can trigger a ResourceWarning in some\u001b[39;00m\n\u001b[0;32m     59\u001b[0m \u001b[38;5;66;03m# cases, and look like a memory leak in others.\u001b[39;00m\n\u001b[0;32m     60\u001b[0m \u001b[38;5;28;01mwith\u001b[39;00m sessions\u001b[38;5;241m.\u001b[39mSession() \u001b[38;5;28;01mas\u001b[39;00m session:\n\u001b[1;32m---> 61\u001b[0m     \u001b[38;5;28;01mreturn\u001b[39;00m session\u001b[38;5;241m.\u001b[39mrequest(method\u001b[38;5;241m=\u001b[39mmethod, url\u001b[38;5;241m=\u001b[39murl, \u001b[38;5;241m*\u001b[39m\u001b[38;5;241m*\u001b[39mkwargs)\n",
      "File \u001b[1;32m~\\anaconda3\\lib\\site-packages\\requests\\sessions.py:515\u001b[0m, in \u001b[0;36mSession.request\u001b[1;34m(self, method, url, params, data, headers, cookies, files, auth, timeout, allow_redirects, proxies, hooks, stream, verify, cert, json)\u001b[0m\n\u001b[0;32m    502\u001b[0m \u001b[38;5;66;03m# Create the Request.\u001b[39;00m\n\u001b[0;32m    503\u001b[0m req \u001b[38;5;241m=\u001b[39m Request(\n\u001b[0;32m    504\u001b[0m     method\u001b[38;5;241m=\u001b[39mmethod\u001b[38;5;241m.\u001b[39mupper(),\n\u001b[0;32m    505\u001b[0m     url\u001b[38;5;241m=\u001b[39murl,\n\u001b[1;32m   (...)\u001b[0m\n\u001b[0;32m    513\u001b[0m     hooks\u001b[38;5;241m=\u001b[39mhooks,\n\u001b[0;32m    514\u001b[0m )\n\u001b[1;32m--> 515\u001b[0m prep \u001b[38;5;241m=\u001b[39m \u001b[38;5;28;43mself\u001b[39;49m\u001b[38;5;241;43m.\u001b[39;49m\u001b[43mprepare_request\u001b[49m\u001b[43m(\u001b[49m\u001b[43mreq\u001b[49m\u001b[43m)\u001b[49m\n\u001b[0;32m    517\u001b[0m proxies \u001b[38;5;241m=\u001b[39m proxies \u001b[38;5;129;01mor\u001b[39;00m {}\n\u001b[0;32m    519\u001b[0m settings \u001b[38;5;241m=\u001b[39m \u001b[38;5;28mself\u001b[39m\u001b[38;5;241m.\u001b[39mmerge_environment_settings(\n\u001b[0;32m    520\u001b[0m     prep\u001b[38;5;241m.\u001b[39murl, proxies, stream, verify, cert\n\u001b[0;32m    521\u001b[0m )\n",
      "File \u001b[1;32m~\\anaconda3\\lib\\site-packages\\requests\\sessions.py:443\u001b[0m, in \u001b[0;36mSession.prepare_request\u001b[1;34m(self, request)\u001b[0m\n\u001b[0;32m    440\u001b[0m     auth \u001b[38;5;241m=\u001b[39m get_netrc_auth(request\u001b[38;5;241m.\u001b[39murl)\n\u001b[0;32m    442\u001b[0m p \u001b[38;5;241m=\u001b[39m PreparedRequest()\n\u001b[1;32m--> 443\u001b[0m \u001b[43mp\u001b[49m\u001b[38;5;241;43m.\u001b[39;49m\u001b[43mprepare\u001b[49m\u001b[43m(\u001b[49m\n\u001b[0;32m    444\u001b[0m \u001b[43m    \u001b[49m\u001b[43mmethod\u001b[49m\u001b[38;5;241;43m=\u001b[39;49m\u001b[43mrequest\u001b[49m\u001b[38;5;241;43m.\u001b[39;49m\u001b[43mmethod\u001b[49m\u001b[38;5;241;43m.\u001b[39;49m\u001b[43mupper\u001b[49m\u001b[43m(\u001b[49m\u001b[43m)\u001b[49m\u001b[43m,\u001b[49m\n\u001b[0;32m    445\u001b[0m \u001b[43m    \u001b[49m\u001b[43murl\u001b[49m\u001b[38;5;241;43m=\u001b[39;49m\u001b[43mrequest\u001b[49m\u001b[38;5;241;43m.\u001b[39;49m\u001b[43murl\u001b[49m\u001b[43m,\u001b[49m\n\u001b[0;32m    446\u001b[0m \u001b[43m    \u001b[49m\u001b[43mfiles\u001b[49m\u001b[38;5;241;43m=\u001b[39;49m\u001b[43mrequest\u001b[49m\u001b[38;5;241;43m.\u001b[39;49m\u001b[43mfiles\u001b[49m\u001b[43m,\u001b[49m\n\u001b[0;32m    447\u001b[0m \u001b[43m    \u001b[49m\u001b[43mdata\u001b[49m\u001b[38;5;241;43m=\u001b[39;49m\u001b[43mrequest\u001b[49m\u001b[38;5;241;43m.\u001b[39;49m\u001b[43mdata\u001b[49m\u001b[43m,\u001b[49m\n\u001b[0;32m    448\u001b[0m \u001b[43m    \u001b[49m\u001b[43mjson\u001b[49m\u001b[38;5;241;43m=\u001b[39;49m\u001b[43mrequest\u001b[49m\u001b[38;5;241;43m.\u001b[39;49m\u001b[43mjson\u001b[49m\u001b[43m,\u001b[49m\n\u001b[0;32m    449\u001b[0m \u001b[43m    \u001b[49m\u001b[43mheaders\u001b[49m\u001b[38;5;241;43m=\u001b[39;49m\u001b[43mmerge_setting\u001b[49m\u001b[43m(\u001b[49m\u001b[43mrequest\u001b[49m\u001b[38;5;241;43m.\u001b[39;49m\u001b[43mheaders\u001b[49m\u001b[43m,\u001b[49m\u001b[43m \u001b[49m\u001b[38;5;28;43mself\u001b[39;49m\u001b[38;5;241;43m.\u001b[39;49m\u001b[43mheaders\u001b[49m\u001b[43m,\u001b[49m\u001b[43m \u001b[49m\u001b[43mdict_class\u001b[49m\u001b[38;5;241;43m=\u001b[39;49m\u001b[43mCaseInsensitiveDict\u001b[49m\u001b[43m)\u001b[49m\u001b[43m,\u001b[49m\n\u001b[0;32m    450\u001b[0m \u001b[43m    \u001b[49m\u001b[43mparams\u001b[49m\u001b[38;5;241;43m=\u001b[39;49m\u001b[43mmerge_setting\u001b[49m\u001b[43m(\u001b[49m\u001b[43mrequest\u001b[49m\u001b[38;5;241;43m.\u001b[39;49m\u001b[43mparams\u001b[49m\u001b[43m,\u001b[49m\u001b[43m \u001b[49m\u001b[38;5;28;43mself\u001b[39;49m\u001b[38;5;241;43m.\u001b[39;49m\u001b[43mparams\u001b[49m\u001b[43m)\u001b[49m\u001b[43m,\u001b[49m\n\u001b[0;32m    451\u001b[0m \u001b[43m    \u001b[49m\u001b[43mauth\u001b[49m\u001b[38;5;241;43m=\u001b[39;49m\u001b[43mmerge_setting\u001b[49m\u001b[43m(\u001b[49m\u001b[43mauth\u001b[49m\u001b[43m,\u001b[49m\u001b[43m \u001b[49m\u001b[38;5;28;43mself\u001b[39;49m\u001b[38;5;241;43m.\u001b[39;49m\u001b[43mauth\u001b[49m\u001b[43m)\u001b[49m\u001b[43m,\u001b[49m\n\u001b[0;32m    452\u001b[0m \u001b[43m    \u001b[49m\u001b[43mcookies\u001b[49m\u001b[38;5;241;43m=\u001b[39;49m\u001b[43mmerged_cookies\u001b[49m\u001b[43m,\u001b[49m\n\u001b[0;32m    453\u001b[0m \u001b[43m    \u001b[49m\u001b[43mhooks\u001b[49m\u001b[38;5;241;43m=\u001b[39;49m\u001b[43mmerge_hooks\u001b[49m\u001b[43m(\u001b[49m\u001b[43mrequest\u001b[49m\u001b[38;5;241;43m.\u001b[39;49m\u001b[43mhooks\u001b[49m\u001b[43m,\u001b[49m\u001b[43m \u001b[49m\u001b[38;5;28;43mself\u001b[39;49m\u001b[38;5;241;43m.\u001b[39;49m\u001b[43mhooks\u001b[49m\u001b[43m)\u001b[49m\u001b[43m,\u001b[49m\n\u001b[0;32m    454\u001b[0m \u001b[43m\u001b[49m\u001b[43m)\u001b[49m\n\u001b[0;32m    455\u001b[0m \u001b[38;5;28;01mreturn\u001b[39;00m p\n",
      "File \u001b[1;32m~\\anaconda3\\lib\\site-packages\\requests\\models.py:318\u001b[0m, in \u001b[0;36mPreparedRequest.prepare\u001b[1;34m(self, method, url, headers, files, data, params, auth, cookies, hooks, json)\u001b[0m\n\u001b[0;32m    315\u001b[0m \u001b[38;5;124;03m\"\"\"Prepares the entire request with the given parameters.\"\"\"\u001b[39;00m\n\u001b[0;32m    317\u001b[0m \u001b[38;5;28mself\u001b[39m\u001b[38;5;241m.\u001b[39mprepare_method(method)\n\u001b[1;32m--> 318\u001b[0m \u001b[38;5;28;43mself\u001b[39;49m\u001b[38;5;241;43m.\u001b[39;49m\u001b[43mprepare_url\u001b[49m\u001b[43m(\u001b[49m\u001b[43murl\u001b[49m\u001b[43m,\u001b[49m\u001b[43m \u001b[49m\u001b[43mparams\u001b[49m\u001b[43m)\u001b[49m\n\u001b[0;32m    319\u001b[0m \u001b[38;5;28mself\u001b[39m\u001b[38;5;241m.\u001b[39mprepare_headers(headers)\n\u001b[0;32m    320\u001b[0m \u001b[38;5;28mself\u001b[39m\u001b[38;5;241m.\u001b[39mprepare_cookies(cookies)\n",
      "File \u001b[1;32m~\\anaconda3\\lib\\site-packages\\requests\\models.py:392\u001b[0m, in \u001b[0;36mPreparedRequest.prepare_url\u001b[1;34m(self, url, params)\u001b[0m\n\u001b[0;32m    389\u001b[0m     error \u001b[38;5;241m=\u001b[39m (\u001b[38;5;124m\"\u001b[39m\u001b[38;5;124mInvalid URL \u001b[39m\u001b[38;5;132;01m{0!r}\u001b[39;00m\u001b[38;5;124m: No scheme supplied. Perhaps you meant http://\u001b[39m\u001b[38;5;132;01m{0}\u001b[39;00m\u001b[38;5;124m?\u001b[39m\u001b[38;5;124m\"\u001b[39m)\n\u001b[0;32m    390\u001b[0m     error \u001b[38;5;241m=\u001b[39m error\u001b[38;5;241m.\u001b[39mformat(to_native_string(url, \u001b[38;5;124m'\u001b[39m\u001b[38;5;124mutf8\u001b[39m\u001b[38;5;124m'\u001b[39m))\n\u001b[1;32m--> 392\u001b[0m     \u001b[38;5;28;01mraise\u001b[39;00m MissingSchema(error)\n\u001b[0;32m    394\u001b[0m \u001b[38;5;28;01mif\u001b[39;00m \u001b[38;5;129;01mnot\u001b[39;00m host:\n\u001b[0;32m    395\u001b[0m     \u001b[38;5;28;01mraise\u001b[39;00m InvalidURL(\u001b[38;5;124m\"\u001b[39m\u001b[38;5;124mInvalid URL \u001b[39m\u001b[38;5;132;01m%r\u001b[39;00m\u001b[38;5;124m: No host supplied\u001b[39m\u001b[38;5;124m\"\u001b[39m \u001b[38;5;241m%\u001b[39m url)\n",
      "\u001b[1;31mMissingSchema\u001b[0m: Invalid URL 'httpsshoonyatrade.finvasia.comNorenWClientTP/QuickAuth': No scheme supplied. Perhaps you meant http://httpsshoonyatrade.finvasia.comNorenWClientTP/QuickAuth?"
     ]
    }
   ],
   "source": [
    "from NorenRestApiPy.NorenApi import  NorenApi\n",
    "import pyotp\n",
    "import logging\n",
    " \n",
    "#enable dbug to see request and responses\n",
    "logging.basicConfig(level=logging.DEBUG)\n",
    "\n",
    "#start of our program\n",
    "\n",
    "\n",
    "user        = 'FA43355'\n",
    "pwd         = 'Sonu@789'\n",
    "vc          = 'FA43355_U'\n",
    "app_key     = '41abb7a25a7ff2e7b6a283a743f72dfa'\n",
    "\n",
    "\n",
    "class ShoonyaApiPy(NorenApi):\n",
    "    def __init__(self):\n",
    "        NorenApi.__init__(self, host='httpsshoonyatrade.finvasia.comNorenWClientTP', websocket='wssshoonyatrade.finvasia.comNorenWSTP', eodhost='httpsshoonya.finvasia.comchartApigetdata')\n",
    "        global api\n",
    "        api = self\n",
    "\n",
    "api = ShoonyaApiPy()      \n",
    "\n",
    "ret = api.login(userid=user, password=pwd, twoFA=pyotp.TOTP(token).now(), vendor_code=vc, api_secret=app_key, imei='dfsghwd6eydbef8hdnk')\n",
    "\n",
    "print(ret)"
   ]
  },
  {
   "cell_type": "code",
   "execution_count": null,
   "id": "65e3cf20",
   "metadata": {},
   "outputs": [],
   "source": [
    "api.get_limits()"
   ]
  },
  {
   "cell_type": "code",
   "execution_count": 4,
   "id": "28e3dd53",
   "metadata": {},
   "outputs": [
    {
     "name": "stderr",
     "output_type": "stream",
     "text": [
      "DEBUG:NorenRestApiPy.NorenApi:https://shoonyatrade.finvasia.com/NorenWClientTP//PlaceOrder\n",
      "DEBUG:NorenRestApiPy.NorenApi:jData={\"ordersource\": \"API\", \"uid\": \"FA43355\", \"actid\": \"FA43355\", \"trantype\": \"S\", \"prd\": \"M\", \"exch\": \"NFO\", \"tsym\": \"BANKNIFTY27OCT22C41600\", \"qty\": \"25\", \"dscqty\": \"0\", \"prctyp\": \"MKT\", \"prc\": \"0\", \"trgprc\": \"0\", \"ret\": \"DAY\", \"remarks\": \"my_order_001\", \"amo\": \"NO\"}&jKey=f6694a6e7c0c56a47fe976e17fc5604b30e4025f985534422f8b2267c15dc34d\n",
      "DEBUG:urllib3.connectionpool:Starting new HTTPS connection (1): shoonyatrade.finvasia.com:443\n",
      "DEBUG:urllib3.connectionpool:https://shoonyatrade.finvasia.com:443 \"POST /NorenWClientTP//PlaceOrder HTTP/1.1\" 200 80\n",
      "DEBUG:NorenRestApiPy.NorenApi:{\"request_time\":\"09:29:36 25-10-2022\",\"stat\":\"Ok\",\"norenordno\":\"22102500049275\"}\n",
      "DEBUG:NorenRestApiPy.NorenApi:https://shoonyatrade.finvasia.com/NorenWClientTP//PlaceOrder\n",
      "DEBUG:NorenRestApiPy.NorenApi:jData={\"ordersource\": \"API\", \"uid\": \"FA43355\", \"actid\": \"FA43355\", \"trantype\": \"S\", \"prd\": \"M\", \"exch\": \"NFO\", \"tsym\": \"BANKNIFTY27OCT22P40800\", \"qty\": \"25\", \"dscqty\": \"0\", \"prctyp\": \"MKT\", \"prc\": \"0\", \"trgprc\": \"0\", \"ret\": \"DAY\", \"remarks\": \"my_order_001\", \"amo\": \"NO\"}&jKey=f6694a6e7c0c56a47fe976e17fc5604b30e4025f985534422f8b2267c15dc34d\n",
      "DEBUG:urllib3.connectionpool:Starting new HTTPS connection (1): shoonyatrade.finvasia.com:443\n",
      "DEBUG:urllib3.connectionpool:https://shoonyatrade.finvasia.com:443 \"POST /NorenWClientTP//PlaceOrder HTTP/1.1\" 200 80\n",
      "DEBUG:NorenRestApiPy.NorenApi:{\"request_time\":\"09:29:36 25-10-2022\",\"stat\":\"Ok\",\"norenordno\":\"22102500049281\"}\n"
     ]
    },
    {
     "data": {
      "text/plain": [
       "{'request_time': '09:29:36 25-10-2022',\n",
       " 'stat': 'Ok',\n",
       " 'norenordno': '22102500049281'}"
      ]
     },
     "execution_count": 4,
     "metadata": {},
     "output_type": "execute_result"
    }
   ],
   "source": [
    "api.place_order(buy_or_sell='S', product_type='M',\n",
    "                        exchange='NFO', tradingsymbol='BANKNIFTY27OCT22C41600',     #CALL\n",
    "                        quantity=25, discloseqty=0,price_type='MKT', price=0, trigger_price=0,\n",
    "                        retention='DAY', remarks='my_order_001')\n",
    "api.place_order(buy_or_sell='S', product_type='M',\n",
    "                        exchange='NFO', tradingsymbol='BANKNIFTY27OCT22P40800',     #PUT\n",
    "                        quantity=25, discloseqty=0,price_type='MKT', price=0, trigger_price=0,\n",
    "                        retention='DAY', remarks='my_order_001')\n",
    "\n"
   ]
  },
  {
   "cell_type": "code",
   "execution_count": 17,
   "id": "bb06439d",
   "metadata": {},
   "outputs": [
    {
     "ename": "AttributeError",
     "evalue": "'ShoonyaApiPy' object has no attribute 'list'",
     "output_type": "error",
     "traceback": [
      "\u001b[1;31m---------------------------------------------------------------------------\u001b[0m",
      "\u001b[1;31mAttributeError\u001b[0m                            Traceback (most recent call last)",
      "Input \u001b[1;32mIn [17]\u001b[0m, in \u001b[0;36m<cell line: 1>\u001b[1;34m()\u001b[0m\n\u001b[1;32m----> 1\u001b[0m \u001b[43mapi\u001b[49m\u001b[38;5;241;43m.\u001b[39;49m\u001b[43mlist\u001b[49m()\n",
      "\u001b[1;31mAttributeError\u001b[0m: 'ShoonyaApiPy' object has no attribute 'list'"
     ]
    }
   ],
   "source": [
    "api.list()"
   ]
  },
  {
   "cell_type": "code",
   "execution_count": 18,
   "id": "4eb7aa09",
   "metadata": {
    "scrolled": true
   },
   "outputs": [
    {
     "ename": "AttributeError",
     "evalue": "type object 'list' has no attribute 'api'",
     "output_type": "error",
     "traceback": [
      "\u001b[1;31m---------------------------------------------------------------------------\u001b[0m",
      "\u001b[1;31mAttributeError\u001b[0m                            Traceback (most recent call last)",
      "Input \u001b[1;32mIn [18]\u001b[0m, in \u001b[0;36m<cell line: 1>\u001b[1;34m()\u001b[0m\n\u001b[1;32m----> 1\u001b[0m \u001b[38;5;28;43mlist\u001b[39;49m\u001b[38;5;241;43m.\u001b[39;49m\u001b[43mapi\u001b[49m\n",
      "\u001b[1;31mAttributeError\u001b[0m: type object 'list' has no attribute 'api'"
     ]
    }
   ],
   "source": [
    "list.api"
   ]
  },
  {
   "cell_type": "code",
   "execution_count": 19,
   "id": "e7cea38b",
   "metadata": {},
   "outputs": [
    {
     "ename": "AttributeError",
     "evalue": "type object 'list' has no attribute 'api'",
     "output_type": "error",
     "traceback": [
      "\u001b[1;31m---------------------------------------------------------------------------\u001b[0m",
      "\u001b[1;31mAttributeError\u001b[0m                            Traceback (most recent call last)",
      "Input \u001b[1;32mIn [19]\u001b[0m, in \u001b[0;36m<cell line: 1>\u001b[1;34m()\u001b[0m\n\u001b[1;32m----> 1\u001b[0m \u001b[38;5;28;43mlist\u001b[39;49m\u001b[38;5;241;43m.\u001b[39;49m\u001b[43mapi\u001b[49m()\n",
      "\u001b[1;31mAttributeError\u001b[0m: type object 'list' has no attribute 'api'"
     ]
    }
   ],
   "source": []
  },
  {
   "cell_type": "code",
   "execution_count": 1,
   "id": "d39639db",
   "metadata": {},
   "outputs": [
    {
     "ename": "NameError",
     "evalue": "name 'api' is not defined",
     "output_type": "error",
     "traceback": [
      "\u001b[1;31m---------------------------------------------------------------------------\u001b[0m",
      "\u001b[1;31mNameError\u001b[0m                                 Traceback (most recent call last)",
      "Input \u001b[1;32mIn [1]\u001b[0m, in \u001b[0;36m<cell line: 1>\u001b[1;34m()\u001b[0m\n\u001b[1;32m----> 1\u001b[0m ret\u001b[38;5;241m=\u001b[39m \u001b[43mapi\u001b[49m\u001b[38;5;241m.\u001b[39mplace_order(buy_or_sell\u001b[38;5;241m=\u001b[39m\u001b[38;5;124m'\u001b[39m\u001b[38;5;124mB\u001b[39m\u001b[38;5;124m'\u001b[39m, product_type\u001b[38;5;241m=\u001b[39m\u001b[38;5;124m'\u001b[39m\u001b[38;5;124mI\u001b[39m\u001b[38;5;124m'\u001b[39m,\n\u001b[0;32m      2\u001b[0m exchange\u001b[38;5;241m=\u001b[39m\u001b[38;5;124m'\u001b[39m\u001b[38;5;124mNSE\u001b[39m\u001b[38;5;124m'\u001b[39m, tradingsymbol\u001b[38;5;241m=\u001b[39m\u001b[38;5;124m'\u001b[39m\u001b[38;5;124mINFY-EQ\u001b[39m\u001b[38;5;124m'\u001b[39m,\n\u001b[0;32m      3\u001b[0m quantity\u001b[38;5;241m=\u001b[39m\u001b[38;5;241m1\u001b[39m, discloseqty\u001b[38;5;241m=\u001b[39m\u001b[38;5;241m0\u001b[39m,price_type\u001b[38;5;241m=\u001b[39m\u001b[38;5;124m'\u001b[39m\u001b[38;5;124mLMT\u001b[39m\u001b[38;5;124m'\u001b[39m, price\u001b[38;5;241m=\u001b[39m\u001b[38;5;241m1500\u001b[39m,\n\u001b[0;32m      4\u001b[0m trigger_price\u001b[38;5;241m=\u001b[39m\u001b[38;5;28;01mNone\u001b[39;00m,\n\u001b[0;32m      5\u001b[0m retention\u001b[38;5;241m=\u001b[39m\u001b[38;5;124m'\u001b[39m\u001b[38;5;124mDAY\u001b[39m\u001b[38;5;124m'\u001b[39m, remarks\u001b[38;5;241m=\u001b[39m\u001b[38;5;124m'\u001b[39m\u001b[38;5;124mmy_order_002\u001b[39m\u001b[38;5;124m'\u001b[39m)\n\u001b[0;32m      7\u001b[0m ret\n",
      "\u001b[1;31mNameError\u001b[0m: name 'api' is not defined"
     ]
    }
   ],
   "source": [
    " ret= api.place_order(buy_or_sell='B', product_type='I',\n",
    " exchange='NSE', tradingsymbol='INFY-EQ',\n",
    "quantity=1, discloseqty=0,price_type='LMT', price=1500,\n",
    "trigger_price=None,\n",
    " retention='DAY', remarks='my_order_002')\n",
    "\n",
    "ret\n"
   ]
  },
  {
   "cell_type": "code",
   "execution_count": 22,
   "id": "1c6c8366",
   "metadata": {},
   "outputs": [
    {
     "name": "stdout",
     "output_type": "stream",
     "text": [
      "Collecting schedule\n",
      "  Using cached schedule-1.1.0-py2.py3-none-any.whl (10 kB)\n",
      "Installing collected packages: schedule\n",
      "Successfully installed schedule-1.1.0\n",
      "Note: you may need to restart the kernel to use updated packages.\n"
     ]
    }
   ],
   "source": [
    "pip install schedule"
   ]
  },
  {
   "cell_type": "code",
   "execution_count": null,
   "id": "0c3f0604",
   "metadata": {},
   "outputs": [
    {
     "name": "stderr",
     "output_type": "stream",
     "text": [
      "DEBUG:schedule:Running job Job(interval=1, unit=days, do=geeks, args=(), kwargs={})\n",
      "DEBUG:NorenRestApiPy.NorenApi:https://shoonyatrade.finvasia.com/NorenWClientTP//PlaceOrder\n",
      "DEBUG:NorenRestApiPy.NorenApi:jData={\"ordersource\": \"API\", \"uid\": \"FA43355\", \"actid\": \"FA43355\", \"trantype\": \"B\", \"prd\": \"I\", \"exch\": \"NSE\", \"tsym\": \"IDEA-EQ\", \"qty\": \"1\", \"dscqty\": \"0\", \"prctyp\": \"MKT\", \"prc\": \"None\", \"trgprc\": \"None\", \"ret\": \"DAY\", \"remarks\": \"my_order_002\", \"amo\": \"NO\"}&jKey=2178bb9bc580ab27f94405a9340f89e2ec0fa92e65d091100d3133d86342192d\n",
      "DEBUG:urllib3.connectionpool:Starting new HTTPS connection (1): shoonyatrade.finvasia.com:443\n",
      "DEBUG:urllib3.connectionpool:https://shoonyatrade.finvasia.com:443 \"POST /NorenWClientTP//PlaceOrder HTTP/1.1\" 200 80\n",
      "DEBUG:NorenRestApiPy.NorenApi:{\"request_time\":\"09:15:58 12-10-2022\",\"stat\":\"Ok\",\"norenordno\":\"22101200008787\"}\n"
     ]
    }
   ],
   "source": [
    "import schedule\n",
    "import time\n",
    "def geeks():\n",
    "    api.place_order(buy_or_sell='B', product_type='I',\n",
    " exchange='NSE', tradingsymbol='IDEA-EQ',\n",
    "quantity=1, discloseqty=0,price_type='MKT', price=None,\n",
    "trigger_price=None,\n",
    " retention='DAY', remarks='my_order_002')\n",
    "schedule.every().day.at(\"09:16\").do(geeks)\n",
    "while True:\n",
    " \n",
    "    # Checks whether a scheduled task\n",
    "    # is pending to run or not\n",
    "    schedule.run_pending()\n",
    "    time.sleep(1)"
   ]
  },
  {
   "cell_type": "code",
   "execution_count": null,
   "id": "14fb54f5",
   "metadata": {},
   "outputs": [],
   "source": [
    "import schedule\n",
    "import time\n",
    "def geeks():\n",
    "    api.place_order(buy_or_sell='B', product_type='I',\n",
    " exchange='NSE', tradingsymbol='IDEA-EQ',\n",
    "quantity=1, discloseqty=0,price_type='MKT', price=None,\n",
    "trigger_price=None,\n",
    " retention='DAY', remarks='my_order_002')\n",
    "schedule.every().day.at(\"09:21\").do(geeks)\n",
    "while True:\n",
    " \n",
    "    # Checks whether a scheduled task\n",
    "    # is pending to run or not\n",
    "    schedule.run_pending()\n",
    "    time.sleep(1)"
   ]
  },
  {
   "cell_type": "code",
   "execution_count": null,
   "id": "b64e5a22",
   "metadata": {},
   "outputs": [],
   "source": [
    "    class ShoonyaApiPy(NorenApi)\n",
    "        def __init__(self)\n",
    "            NorenApi.__init__(self, host='httpsshoonyatrade.finvasia.comNorenWClientTP', websocket='wssshoonyatrade.finvasia.comNorenWSTP', eodhost='httpsshoonya.finvasia.comchartApigetdata')\n",
    "\n",
    "        \n",
    "    #start of our program\n",
    "    SHOONYA_API = ShoonyaApiPy()\n",
    "\n",
    "    #credentials\n",
    "    user        = ''\n",
    "    pwd         = ''\n",
    "    factor2     = ''\n",
    "    vc          = ''\n",
    "    app_key     = ''s\n",
    "    imei        = ''\n",
    "\n",
    "    res=SHOONYA_API.login(userid=user, password=pwd, twoFA=factor2, vendor_code=vc, api_secret=app_key, imei=imei)\n",
    "    #print(datetime.now(), res)\n",
    "    return SHOONYA_API"
   ]
  }
 ],
 "metadata": {
  "kernelspec": {
   "display_name": "Python 3 (ipykernel)",
   "language": "python",
   "name": "python3"
  },
  "language_info": {
   "codemirror_mode": {
    "name": "ipython",
    "version": 3
   },
   "file_extension": ".py",
   "mimetype": "text/x-python",
   "name": "python",
   "nbconvert_exporter": "python",
   "pygments_lexer": "ipython3",
   "version": "3.9.12"
  }
 },
 "nbformat": 4,
 "nbformat_minor": 5
}
